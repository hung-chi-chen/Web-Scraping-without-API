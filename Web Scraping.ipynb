{
 "cells": [
  {
   "attachments": {},
   "cell_type": "markdown",
   "id": "43b55cde",
   "metadata": {},
   "source": [
    "## Scrapinng Website Info"
   ]
  },
  {
   "cell_type": "code",
   "execution_count": 1,
   "id": "a2c1e6c3",
   "metadata": {
    "scrolled": false
   },
   "outputs": [
    {
     "name": "stdout",
     "output_type": "stream",
     "text": [
      "https://ca.trustpilot.com/review/squareup.com/ca\n",
      "https://ca.trustpilot.com/review/squareup.com/ca?page=2\n",
      "https://ca.trustpilot.com/review/squareup.com/ca?page=3\n",
      "https://ca.trustpilot.com/review/squareup.com/ca?page=4\n",
      "https://ca.trustpilot.com/review/squareup.com/ca?page=5\n",
      "https://ca.trustpilot.com/review/squareup.com/ca?page=6\n",
      "https://ca.trustpilot.com/review/squareup.com/ca?page=7\n",
      "https://ca.trustpilot.com/review/squareup.com/ca?page=8\n",
      "https://ca.trustpilot.com/review/squareup.com/ca?page=9\n",
      "https://ca.trustpilot.com/review/squareup.com/ca?page=10\n",
      "https://ca.trustpilot.com/review/squareup.com/ca?page=11\n",
      "https://ca.trustpilot.com/review/squareup.com/ca?page=12\n",
      "https://ca.trustpilot.com/review/squareup.com/ca?page=13\n",
      "https://ca.trustpilot.com/review/squareup.com/ca?page=14\n",
      "https://ca.trustpilot.com/review/squareup.com/ca?page=15\n",
      "https://ca.trustpilot.com/review/squareup.com/ca?page=16\n",
      "https://ca.trustpilot.com/review/squareup.com/ca?page=17\n",
      "https://ca.trustpilot.com/review/squareup.com/ca?page=18\n",
      "https://ca.trustpilot.com/review/squareup.com/ca?page=19\n",
      "https://ca.trustpilot.com/review/squareup.com/ca?page=20\n",
      "https://ca.trustpilot.com/review/squareup.com/ca?page=21\n",
      "https://ca.trustpilot.com/review/squareup.com/ca?page=22\n",
      "https://ca.trustpilot.com/review/squareup.com/ca?page=23\n",
      "https://ca.trustpilot.com/review/squareup.com/ca?page=24\n",
      "https://ca.trustpilot.com/review/squareup.com/ca?page=25\n",
      "https://ca.trustpilot.com/review/squareup.com/ca?page=26\n",
      "https://ca.trustpilot.com/review/squareup.com/ca?page=27\n"
     ]
    }
   ],
   "source": [
    "# import library\n",
    "import requests\n",
    "from bs4 import BeautifulSoup\n",
    "import pandas as pd\n",
    "import numpy as np\n",
    "\n",
    "#Create empty lists\n",
    "date_published= []\n",
    "ratingValue= []\n",
    "review_body= []\n",
    "\n",
    "\n",
    "Web_Scraping= pd.DataFrame()\n",
    "\n",
    "#updating url \n",
    "for page_num in range(1,28,1):\n",
    "    url = 'https://ca.trustpilot.com/review/squareup.com/ca'\n",
    "    text=\"?page=\" \n",
    "    \n",
    "    #if url in page one, then remove the url text at the back\n",
    "    if page_num < 2:\n",
    "        text= ''\n",
    "        page_num =''\n",
    "    # otherwise, attatch ?page + page number     \n",
    "    new_text= text+ str(page_num)\n",
    "    new_url= url+ new_text\n",
    "    print(new_url)\n",
    "    \n",
    "    #after securing the url links\n",
    "    #get request\n",
    "    response = requests.get(new_url)\n",
    "    soup = BeautifulSoup(response.content, 'html.parser')\n",
    "    \n",
    "    # locate time info\n",
    "    times=soup.find_all('div','typography_body-m__xgxZ_ typography_appearance-subtle__8_H2l styles_datesWrapper__RCEKH')\n",
    "    #extract time info\n",
    "    for time in times:\n",
    "        date_published.append(time.find('time').get('datetime'))\n",
    "\n",
    "    # locate rating info\n",
    "    ratings= soup.find_all( 'div', 'styles_reviewHeader__iU9Px')\n",
    "    for rating in ratings:\n",
    "        ratingValue.append(rating.get('data-service-review-rating'))\n",
    "\n",
    "    #locate review content\n",
    "    reviews= soup.find_all('div' ,\"styles_reviewContent__0Q2Tg\")\n",
    "\n",
    "    for review in reviews:\n",
    "        if len(review.contents) > 2:\n",
    "            review_body.append(review.contents[1].text)\n",
    "        \n",
    "        else:\n",
    "            review_body.append(np.nan)\n",
    "#     locate company name  \n",
    "name= soup.find('h1').find('span').get_text()\n",
    "#     companyName.append(name)\n",
    "#     print(name)\n",
    "\n",
    "\n"
   ]
  },
  {
   "attachments": {},
   "cell_type": "markdown",
   "id": "49b0b3c4",
   "metadata": {},
   "source": [
    "## Construct the DataFrame"
   ]
  },
  {
   "cell_type": "code",
   "execution_count": 2,
   "id": "1c7eb5fd",
   "metadata": {},
   "outputs": [
    {
     "name": "stdout",
     "output_type": "stream",
     "text": [
      "           companyName            date_published ratingValue  \\\n",
      "0  Square Canada Inc.   2023-05-02T00:53:22.000Z           5   \n",
      "1  Square Canada Inc.   2023-04-07T19:41:50.000Z           1   \n",
      "2  Square Canada Inc.   2023-04-12T16:25:20.000Z           2   \n",
      "3  Square Canada Inc.   2023-02-07T19:54:51.000Z           2   \n",
      "4  Square Canada Inc.   2023-01-22T16:44:19.000Z           1   \n",
      "5  Square Canada Inc.   2023-01-13T19:50:18.000Z           1   \n",
      "6  Square Canada Inc.   2022-12-31T03:55:26.000Z           1   \n",
      "7  Square Canada Inc.   2022-06-16T18:43:50.000Z           5   \n",
      "8  Square Canada Inc.   2022-03-24T01:08:27.000Z           1   \n",
      "9  Square Canada Inc.   2022-06-16T18:30:48.000Z           5   \n",
      "\n",
      "                                         review_body  \n",
      "0  I never had any issues w my square payment con...  \n",
      "1  Scammers scammers scammers DO NOT SIGN UP!! Th...  \n",
      "2  took so long to fix my deactivated account. It...  \n",
      "3  After purchasing their equipment, connecting m...  \n",
      "4  Started using Square in October 2022. Received...  \n",
      "5  The worst company to deal with they cancel the...  \n",
      "6  DO NOT DO BUSINESS WITH THIS COMPANY.  YOU'VE ...  \n",
      "7  Square really is the best option for home and ...  \n",
      "8  Worst company ever. Closed my account with no ...  \n",
      "9  I've been very happy using Square for my small...  \n"
     ]
    }
   ],
   "source": [
    "#place data into the dataframe\n",
    "Web_Scraping['date_published']= date_published\n",
    "Web_Scraping['ratingValue']= ratingValue\n",
    "Web_Scraping['review_body']= review_body\n",
    "Web_Scraping['companyName']= name\n",
    "\n",
    "Web_Scraping= Web_Scraping[['companyName','date_published', 'ratingValue', 'review_body' ]]\n",
    "# print(name)\n",
    "print (Web_Scraping.head(10))"
   ]
  },
  {
   "attachments": {},
   "cell_type": "markdown",
   "id": "4f97f94a",
   "metadata": {},
   "source": [
    "### Export to csv"
   ]
  },
  {
   "cell_type": "code",
   "execution_count": 2,
   "id": "d725332f",
   "metadata": {},
   "outputs": [],
   "source": [
    "Web_Scraping.to_csv('Web_Scraping', index= None)"
   ]
  }
 ],
 "metadata": {
  "kernelspec": {
   "display_name": "Python 3 (ipykernel)",
   "language": "python",
   "name": "python3"
  },
  "language_info": {
   "codemirror_mode": {
    "name": "ipython",
    "version": 3
   },
   "file_extension": ".py",
   "mimetype": "text/x-python",
   "name": "python",
   "nbconvert_exporter": "python",
   "pygments_lexer": "ipython3",
   "version": "3.9.7"
  }
 },
 "nbformat": 4,
 "nbformat_minor": 5
}
